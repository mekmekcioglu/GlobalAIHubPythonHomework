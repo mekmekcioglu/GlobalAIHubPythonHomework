{
 "cells": [
  {
   "cell_type": "code",
   "execution_count": 3,
   "metadata": {},
   "outputs": [
    {
     "name": "stdout",
     "output_type": "stream",
     "text": [
      "Please enter a string value: aaaaa\n",
      "Please enter an integer value: 4\n",
      "Please enter a float value: 4.3\n",
      "Please enter a boolean value: true\n",
      "Please enter a float value: 6.2\n",
      "Type of first value: <class 'str'>\n",
      "Type of second value: <class 'int'>\n",
      "Type of third value: <class 'int'>\n",
      "Type of fourth value: <class 'int'>\n",
      "Type of fifth value: <class 'int'>\n"
     ]
    }
   ],
   "source": [
    "z = str(input(\"Please enter a string value: \"))\n",
    "x = int(input(\"Please enter an integer value: \"))\n",
    "y = float(input(\"Please enter a float value: \"))\n",
    "a = bool(input(\"Please enter a boolean value: \"))\n",
    "b = float(input(\"Please enter a float value: \"))\n",
    "\n",
    "\n",
    "print(f'Type of first value: {type(z)}\\nType of second value: {type(x)}\\nType of third value: {type(x)}\\nType of fourth value: {type(x)}\\nType of fifth value: {type(x)}')"
   ]
  },
  {
   "cell_type": "code",
   "execution_count": null,
   "metadata": {},
   "outputs": [],
   "source": []
  }
 ],
 "metadata": {
  "kernelspec": {
   "display_name": "Python 3",
   "language": "python",
   "name": "python3"
  },
  "language_info": {
   "codemirror_mode": {
    "name": "ipython",
    "version": 3
   },
   "file_extension": ".py",
   "mimetype": "text/x-python",
   "name": "python",
   "nbconvert_exporter": "python",
   "pygments_lexer": "ipython3",
   "version": "3.8.5"
  }
 },
 "nbformat": 4,
 "nbformat_minor": 4
}
