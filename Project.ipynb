{
 "cells": [
  {
   "cell_type": "code",
   "execution_count": null,
   "metadata": {},
   "outputs": [],
   "source": [
    "studentnames = [\"Mustafa E\",\"Ahmet B\",\"Mehmet C\",\"Suleyman D\",\"Samet F\"]\n",
    "\n",
    "for j in range (3):\n",
    "    inputname = input(\"Please enter your Name and Surname: \")\n",
    "    for i in range(len(studentnames)):\n",
    "        if inputname == studentnames[i]:\n",
    "            print(\"Wellcome \" + inputname )\n",
    "            break\n",
    "        else:\n",
    "            i += 1\n",
    "    if j == 2:\n",
    "        print(\"Please try again later\")\n",
    "        break\n",
    "    elif i == int(len(studentnames)):\n",
    "        print(\"Student is not in list\")        \n",
    "        continue\n",
    "    else:\n",
    "        break"
   ]
  },
  {
   "cell_type": "code",
   "execution_count": null,
   "metadata": {},
   "outputs": [],
   "source": []
  }
 ],
 "metadata": {
  "kernelspec": {
   "display_name": "Python 3",
   "language": "python",
   "name": "python3"
  },
  "language_info": {
   "codemirror_mode": {
    "name": "ipython",
    "version": 3
   },
   "file_extension": ".py",
   "mimetype": "text/x-python",
   "name": "python",
   "nbconvert_exporter": "python",
   "pygments_lexer": "ipython3",
   "version": "3.8.5"
  }
 },
 "nbformat": 4,
 "nbformat_minor": 4
}
