{
 "cells": [
  {
   "cell_type": "code",
   "execution_count": 13,
   "metadata": {},
   "outputs": [
    {
     "name": "stdout",
     "output_type": "stream",
     "text": [
      "please enter your first name: mustafa\n",
      "please enter your last name: ekmekcioglu\n",
      "please enter your age: 33\n",
      "please enter your date of birth (just year): 1988\n",
      "mustafa\n",
      "ekmekcioglu\n",
      "33\n",
      "1988\n",
      "you can go out to the street\n"
     ]
    }
   ],
   "source": [
    "a =input('please enter your first name: ')\n",
    "b =input('please enter your last name: ')\n",
    "c =int(input('please enter your age: '))\n",
    "d =int(input('please enter your date of birth (just year): '))\n",
    "e = [a,b,c,d]\n",
    "for i in e:\n",
    "    print(i)\n",
    "    \n",
    "if c <19:\n",
    "    print('You can\"'\"t go out because it\"'\"s too dangerous')\n",
    "elif c>18:\n",
    "    print('you can go out to the street')\n",
    "else:\n",
    "    print('Invalid age')\n",
    "       \n",
    "\n",
    "\n"
   ]
  },
  {
   "cell_type": "code",
   "execution_count": null,
   "metadata": {},
   "outputs": [],
   "source": []
  }
 ],
 "metadata": {
  "kernelspec": {
   "display_name": "Python 3",
   "language": "python",
   "name": "python3"
  },
  "language_info": {
   "codemirror_mode": {
    "name": "ipython",
    "version": 3
   },
   "file_extension": ".py",
   "mimetype": "text/x-python",
   "name": "python",
   "nbconvert_exporter": "python",
   "pygments_lexer": "ipython3",
   "version": "3.8.5"
  }
 },
 "nbformat": 4,
 "nbformat_minor": 4
}
